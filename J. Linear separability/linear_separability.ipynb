{
 "cells": [
  {
   "cell_type": "code",
   "execution_count": 66,
   "metadata": {},
   "outputs": [
    {
     "name": "stdout",
     "output_type": "stream",
     "text": [
      "1.0096337413028673 1.0096337413028673 1.0096337413028673 1.0096337413028673 1.0096337413028673\n"
     ]
    }
   ],
   "source": [
    "import numpy as np\n",
    "\n",
    "X = []\n",
    "y = []\n",
    "with open('input.txt') as file:\n",
    "    n, m = map(int, file.readline().split())\n",
    "    for _ in range(n):\n",
    "        data = file.readline().split()\n",
    "        X.append(data[:m])\n",
    "        y.append(data[-1])\n",
    "\n",
    "X = np.array(X, float)\n",
    "y = np.array(y, int).reshape(n, 1)\n",
    "\n",
    "# X = np.hstack([-np.ones((n, 1)), X])\n",
    "\n",
    "def Loss(X, w, y):\n",
    "    return np.exp(- X.dot(w) * y).sum()\n",
    "\n",
    "def Grad(X, w, y):\n",
    "    return - np.dot((X*y).T, np.exp(- X.dot(w) * y))\n",
    "\n",
    "def Model(X, y, n_iterations=100, learning_rate=0.1, verbose=10):\n",
    "    w = np.zeros((m, 1))\n",
    "    \n",
    "    for i in range(n_iterations):\n",
    "        loss = Loss(X, w, y)                \n",
    "        grad = Grad(X, w, y)\n",
    "        \n",
    "        w -= learning_rate * grad\n",
    "        \n",
    "        if verbose and (i % verbose == 0):\n",
    "            print(f'Iter: {i}, Loss: {loss}')\n",
    "                \n",
    "    return w\n",
    "\n",
    "w = Model(X, y, verbose=False)\n",
    "print(*w.flatten())"
   ]
  },
  {
   "cell_type": "code",
   "execution_count": 67,
   "metadata": {
    "scrolled": true
   },
   "outputs": [
    {
     "data": {
      "text/plain": [
       "array([[5.04816871],\n",
       "       [5.04816871],\n",
       "       [5.04816871]])"
      ]
     },
     "execution_count": 67,
     "metadata": {},
     "output_type": "execute_result"
    }
   ],
   "source": [
    "X.dot(w) * y"
   ]
  }
 ],
 "metadata": {
  "kernelspec": {
   "display_name": "Python 3",
   "language": "python",
   "name": "python3"
  },
  "language_info": {
   "codemirror_mode": {
    "name": "ipython",
    "version": 3
   },
   "file_extension": ".py",
   "mimetype": "text/x-python",
   "name": "python",
   "nbconvert_exporter": "python",
   "pygments_lexer": "ipython3",
   "version": "3.7.3"
  }
 },
 "nbformat": 4,
 "nbformat_minor": 2
}
