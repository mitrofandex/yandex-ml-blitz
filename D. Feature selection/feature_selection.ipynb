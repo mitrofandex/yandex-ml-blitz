{
 "cells": [
  {
   "cell_type": "code",
   "execution_count": 30,
   "metadata": {},
   "outputs": [],
   "source": [
    "import pandas as pd\n",
    "from catboost import CatBoostRegressor, Pool"
   ]
  },
  {
   "cell_type": "code",
   "execution_count": 23,
   "metadata": {},
   "outputs": [],
   "source": [
    "data = pd.read_csv('train.txt', sep='\\t', header=None, index_col=0, names=['y', 'blank', 'weight']+list(range(500)))"
   ]
  },
  {
   "cell_type": "code",
   "execution_count": 24,
   "metadata": {},
   "outputs": [
    {
     "data": {
      "text/html": [
       "<div>\n",
       "<style scoped>\n",
       "    .dataframe tbody tr th:only-of-type {\n",
       "        vertical-align: middle;\n",
       "    }\n",
       "\n",
       "    .dataframe tbody tr th {\n",
       "        vertical-align: top;\n",
       "    }\n",
       "\n",
       "    .dataframe thead th {\n",
       "        text-align: right;\n",
       "    }\n",
       "</style>\n",
       "<table border=\"1\" class=\"dataframe\">\n",
       "  <thead>\n",
       "    <tr style=\"text-align: right;\">\n",
       "      <th></th>\n",
       "      <th>y</th>\n",
       "      <th>blank</th>\n",
       "      <th>weight</th>\n",
       "      <th>0</th>\n",
       "      <th>1</th>\n",
       "      <th>2</th>\n",
       "      <th>3</th>\n",
       "      <th>4</th>\n",
       "      <th>5</th>\n",
       "      <th>6</th>\n",
       "      <th>...</th>\n",
       "      <th>490</th>\n",
       "      <th>491</th>\n",
       "      <th>492</th>\n",
       "      <th>493</th>\n",
       "      <th>494</th>\n",
       "      <th>495</th>\n",
       "      <th>496</th>\n",
       "      <th>497</th>\n",
       "      <th>498</th>\n",
       "      <th>499</th>\n",
       "    </tr>\n",
       "  </thead>\n",
       "  <tbody>\n",
       "    <tr>\n",
       "      <th>1</th>\n",
       "      <td>-0.84307</td>\n",
       "      <td>NaN</td>\n",
       "      <td>1</td>\n",
       "      <td>-2.14388</td>\n",
       "      <td>-0.69411</td>\n",
       "      <td>1.30473</td>\n",
       "      <td>-1.06046</td>\n",
       "      <td>-0.62150</td>\n",
       "      <td>-0.46634</td>\n",
       "      <td>-0.96669</td>\n",
       "      <td>...</td>\n",
       "      <td>0.40253</td>\n",
       "      <td>0.93484</td>\n",
       "      <td>0.68504</td>\n",
       "      <td>-1.37858</td>\n",
       "      <td>-1.17067</td>\n",
       "      <td>-0.32967</td>\n",
       "      <td>-3.30627</td>\n",
       "      <td>-0.77131</td>\n",
       "      <td>0.20146</td>\n",
       "      <td>-0.22693</td>\n",
       "    </tr>\n",
       "    <tr>\n",
       "      <th>2</th>\n",
       "      <td>0.21095</td>\n",
       "      <td>NaN</td>\n",
       "      <td>1</td>\n",
       "      <td>2.03877</td>\n",
       "      <td>0.43453</td>\n",
       "      <td>-1.49916</td>\n",
       "      <td>0.13898</td>\n",
       "      <td>-0.87817</td>\n",
       "      <td>2.29349</td>\n",
       "      <td>-0.70420</td>\n",
       "      <td>...</td>\n",
       "      <td>0.28299</td>\n",
       "      <td>-1.48371</td>\n",
       "      <td>0.72187</td>\n",
       "      <td>0.52174</td>\n",
       "      <td>-0.25498</td>\n",
       "      <td>-1.12111</td>\n",
       "      <td>-0.16797</td>\n",
       "      <td>2.75876</td>\n",
       "      <td>-1.93091</td>\n",
       "      <td>-0.18303</td>\n",
       "    </tr>\n",
       "    <tr>\n",
       "      <th>3</th>\n",
       "      <td>-2.41988</td>\n",
       "      <td>NaN</td>\n",
       "      <td>1</td>\n",
       "      <td>-0.95053</td>\n",
       "      <td>-0.13042</td>\n",
       "      <td>1.56699</td>\n",
       "      <td>0.26181</td>\n",
       "      <td>0.08768</td>\n",
       "      <td>-3.32459</td>\n",
       "      <td>1.58394</td>\n",
       "      <td>...</td>\n",
       "      <td>0.92639</td>\n",
       "      <td>-0.61832</td>\n",
       "      <td>0.28087</td>\n",
       "      <td>0.21471</td>\n",
       "      <td>0.29806</td>\n",
       "      <td>-0.35503</td>\n",
       "      <td>-0.08531</td>\n",
       "      <td>0.65360</td>\n",
       "      <td>1.45089</td>\n",
       "      <td>-0.07093</td>\n",
       "    </tr>\n",
       "    <tr>\n",
       "      <th>4</th>\n",
       "      <td>-1.46263</td>\n",
       "      <td>NaN</td>\n",
       "      <td>1</td>\n",
       "      <td>-1.30906</td>\n",
       "      <td>-0.59577</td>\n",
       "      <td>0.39971</td>\n",
       "      <td>-0.30437</td>\n",
       "      <td>-1.23545</td>\n",
       "      <td>-1.71503</td>\n",
       "      <td>1.94246</td>\n",
       "      <td>...</td>\n",
       "      <td>0.32639</td>\n",
       "      <td>-1.36245</td>\n",
       "      <td>1.23629</td>\n",
       "      <td>-0.96764</td>\n",
       "      <td>-4.24304</td>\n",
       "      <td>0.82723</td>\n",
       "      <td>1.48626</td>\n",
       "      <td>0.46210</td>\n",
       "      <td>0.00965</td>\n",
       "      <td>-1.52649</td>\n",
       "    </tr>\n",
       "    <tr>\n",
       "      <th>5</th>\n",
       "      <td>-1.48254</td>\n",
       "      <td>NaN</td>\n",
       "      <td>1</td>\n",
       "      <td>-0.72291</td>\n",
       "      <td>0.12607</td>\n",
       "      <td>1.48415</td>\n",
       "      <td>1.90687</td>\n",
       "      <td>0.69106</td>\n",
       "      <td>-0.69437</td>\n",
       "      <td>1.51481</td>\n",
       "      <td>...</td>\n",
       "      <td>0.25997</td>\n",
       "      <td>-0.22013</td>\n",
       "      <td>-1.72110</td>\n",
       "      <td>-0.07785</td>\n",
       "      <td>0.44419</td>\n",
       "      <td>-0.75173</td>\n",
       "      <td>0.96682</td>\n",
       "      <td>-1.55071</td>\n",
       "      <td>-0.17419</td>\n",
       "      <td>0.78952</td>\n",
       "    </tr>\n",
       "  </tbody>\n",
       "</table>\n",
       "<p>5 rows × 503 columns</p>\n",
       "</div>"
      ],
      "text/plain": [
       "         y  blank  weight        0        1        2        3        4  \\\n",
       "1 -0.84307    NaN       1 -2.14388 -0.69411  1.30473 -1.06046 -0.62150   \n",
       "2  0.21095    NaN       1  2.03877  0.43453 -1.49916  0.13898 -0.87817   \n",
       "3 -2.41988    NaN       1 -0.95053 -0.13042  1.56699  0.26181  0.08768   \n",
       "4 -1.46263    NaN       1 -1.30906 -0.59577  0.39971 -0.30437 -1.23545   \n",
       "5 -1.48254    NaN       1 -0.72291  0.12607  1.48415  1.90687  0.69106   \n",
       "\n",
       "         5        6  ...      490      491      492      493      494  \\\n",
       "1 -0.46634 -0.96669  ...  0.40253  0.93484  0.68504 -1.37858 -1.17067   \n",
       "2  2.29349 -0.70420  ...  0.28299 -1.48371  0.72187  0.52174 -0.25498   \n",
       "3 -3.32459  1.58394  ...  0.92639 -0.61832  0.28087  0.21471  0.29806   \n",
       "4 -1.71503  1.94246  ...  0.32639 -1.36245  1.23629 -0.96764 -4.24304   \n",
       "5 -0.69437  1.51481  ...  0.25997 -0.22013 -1.72110 -0.07785  0.44419   \n",
       "\n",
       "       495      496      497      498      499  \n",
       "1 -0.32967 -3.30627 -0.77131  0.20146 -0.22693  \n",
       "2 -1.12111 -0.16797  2.75876 -1.93091 -0.18303  \n",
       "3 -0.35503 -0.08531  0.65360  1.45089 -0.07093  \n",
       "4  0.82723  1.48626  0.46210  0.00965 -1.52649  \n",
       "5 -0.75173  0.96682 -1.55071 -0.17419  0.78952  \n",
       "\n",
       "[5 rows x 503 columns]"
      ]
     },
     "execution_count": 24,
     "metadata": {},
     "output_type": "execute_result"
    }
   ],
   "source": [
    "data.head()"
   ]
  },
  {
   "cell_type": "code",
   "execution_count": 5,
   "metadata": {},
   "outputs": [
    {
     "name": "stdout",
     "output_type": "stream",
     "text": [
      "0\tAuxiliary\n",
      "1\tTarget\n",
      "2\tAuxiliary\n",
      "3\tWeight\n"
     ]
    }
   ],
   "source": [
    "!cat train.cd"
   ]
  },
  {
   "cell_type": "code",
   "execution_count": 11,
   "metadata": {},
   "outputs": [
    {
     "data": {
      "text/plain": [
       "(10000, 503)"
      ]
     },
     "execution_count": 11,
     "metadata": {},
     "output_type": "execute_result"
    }
   ],
   "source": [
    "data.shape"
   ]
  },
  {
   "cell_type": "code",
   "execution_count": 28,
   "metadata": {},
   "outputs": [],
   "source": [
    "X = data.iloc[:, 3:]\n",
    "y = data['y']"
   ]
  },
  {
   "cell_type": "code",
   "execution_count": 29,
   "metadata": {},
   "outputs": [
    {
     "data": {
      "text/html": [
       "<div>\n",
       "<style scoped>\n",
       "    .dataframe tbody tr th:only-of-type {\n",
       "        vertical-align: middle;\n",
       "    }\n",
       "\n",
       "    .dataframe tbody tr th {\n",
       "        vertical-align: top;\n",
       "    }\n",
       "\n",
       "    .dataframe thead th {\n",
       "        text-align: right;\n",
       "    }\n",
       "</style>\n",
       "<table border=\"1\" class=\"dataframe\">\n",
       "  <thead>\n",
       "    <tr style=\"text-align: right;\">\n",
       "      <th></th>\n",
       "      <th>0</th>\n",
       "      <th>1</th>\n",
       "      <th>2</th>\n",
       "      <th>3</th>\n",
       "      <th>4</th>\n",
       "      <th>5</th>\n",
       "      <th>6</th>\n",
       "      <th>7</th>\n",
       "      <th>8</th>\n",
       "      <th>9</th>\n",
       "      <th>...</th>\n",
       "      <th>490</th>\n",
       "      <th>491</th>\n",
       "      <th>492</th>\n",
       "      <th>493</th>\n",
       "      <th>494</th>\n",
       "      <th>495</th>\n",
       "      <th>496</th>\n",
       "      <th>497</th>\n",
       "      <th>498</th>\n",
       "      <th>499</th>\n",
       "    </tr>\n",
       "  </thead>\n",
       "  <tbody>\n",
       "    <tr>\n",
       "      <th>1</th>\n",
       "      <td>-2.14388</td>\n",
       "      <td>-0.69411</td>\n",
       "      <td>1.30473</td>\n",
       "      <td>-1.06046</td>\n",
       "      <td>-0.62150</td>\n",
       "      <td>-0.46634</td>\n",
       "      <td>-0.96669</td>\n",
       "      <td>1.78496</td>\n",
       "      <td>-1.15768</td>\n",
       "      <td>0.16218</td>\n",
       "      <td>...</td>\n",
       "      <td>0.40253</td>\n",
       "      <td>0.93484</td>\n",
       "      <td>0.68504</td>\n",
       "      <td>-1.37858</td>\n",
       "      <td>-1.17067</td>\n",
       "      <td>-0.32967</td>\n",
       "      <td>-3.30627</td>\n",
       "      <td>-0.77131</td>\n",
       "      <td>0.20146</td>\n",
       "      <td>-0.22693</td>\n",
       "    </tr>\n",
       "    <tr>\n",
       "      <th>2</th>\n",
       "      <td>2.03877</td>\n",
       "      <td>0.43453</td>\n",
       "      <td>-1.49916</td>\n",
       "      <td>0.13898</td>\n",
       "      <td>-0.87817</td>\n",
       "      <td>2.29349</td>\n",
       "      <td>-0.70420</td>\n",
       "      <td>0.35790</td>\n",
       "      <td>-0.02731</td>\n",
       "      <td>1.08585</td>\n",
       "      <td>...</td>\n",
       "      <td>0.28299</td>\n",
       "      <td>-1.48371</td>\n",
       "      <td>0.72187</td>\n",
       "      <td>0.52174</td>\n",
       "      <td>-0.25498</td>\n",
       "      <td>-1.12111</td>\n",
       "      <td>-0.16797</td>\n",
       "      <td>2.75876</td>\n",
       "      <td>-1.93091</td>\n",
       "      <td>-0.18303</td>\n",
       "    </tr>\n",
       "    <tr>\n",
       "      <th>3</th>\n",
       "      <td>-0.95053</td>\n",
       "      <td>-0.13042</td>\n",
       "      <td>1.56699</td>\n",
       "      <td>0.26181</td>\n",
       "      <td>0.08768</td>\n",
       "      <td>-3.32459</td>\n",
       "      <td>1.58394</td>\n",
       "      <td>1.08992</td>\n",
       "      <td>-1.90353</td>\n",
       "      <td>0.26902</td>\n",
       "      <td>...</td>\n",
       "      <td>0.92639</td>\n",
       "      <td>-0.61832</td>\n",
       "      <td>0.28087</td>\n",
       "      <td>0.21471</td>\n",
       "      <td>0.29806</td>\n",
       "      <td>-0.35503</td>\n",
       "      <td>-0.08531</td>\n",
       "      <td>0.65360</td>\n",
       "      <td>1.45089</td>\n",
       "      <td>-0.07093</td>\n",
       "    </tr>\n",
       "    <tr>\n",
       "      <th>4</th>\n",
       "      <td>-1.30906</td>\n",
       "      <td>-0.59577</td>\n",
       "      <td>0.39971</td>\n",
       "      <td>-0.30437</td>\n",
       "      <td>-1.23545</td>\n",
       "      <td>-1.71503</td>\n",
       "      <td>1.94246</td>\n",
       "      <td>1.12837</td>\n",
       "      <td>-0.16355</td>\n",
       "      <td>-1.09568</td>\n",
       "      <td>...</td>\n",
       "      <td>0.32639</td>\n",
       "      <td>-1.36245</td>\n",
       "      <td>1.23629</td>\n",
       "      <td>-0.96764</td>\n",
       "      <td>-4.24304</td>\n",
       "      <td>0.82723</td>\n",
       "      <td>1.48626</td>\n",
       "      <td>0.46210</td>\n",
       "      <td>0.00965</td>\n",
       "      <td>-1.52649</td>\n",
       "    </tr>\n",
       "    <tr>\n",
       "      <th>5</th>\n",
       "      <td>-0.72291</td>\n",
       "      <td>0.12607</td>\n",
       "      <td>1.48415</td>\n",
       "      <td>1.90687</td>\n",
       "      <td>0.69106</td>\n",
       "      <td>-0.69437</td>\n",
       "      <td>1.51481</td>\n",
       "      <td>-0.25328</td>\n",
       "      <td>0.63265</td>\n",
       "      <td>0.69302</td>\n",
       "      <td>...</td>\n",
       "      <td>0.25997</td>\n",
       "      <td>-0.22013</td>\n",
       "      <td>-1.72110</td>\n",
       "      <td>-0.07785</td>\n",
       "      <td>0.44419</td>\n",
       "      <td>-0.75173</td>\n",
       "      <td>0.96682</td>\n",
       "      <td>-1.55071</td>\n",
       "      <td>-0.17419</td>\n",
       "      <td>0.78952</td>\n",
       "    </tr>\n",
       "  </tbody>\n",
       "</table>\n",
       "<p>5 rows × 500 columns</p>\n",
       "</div>"
      ],
      "text/plain": [
       "       0        1        2        3        4        5        6        7    \\\n",
       "1 -2.14388 -0.69411  1.30473 -1.06046 -0.62150 -0.46634 -0.96669  1.78496   \n",
       "2  2.03877  0.43453 -1.49916  0.13898 -0.87817  2.29349 -0.70420  0.35790   \n",
       "3 -0.95053 -0.13042  1.56699  0.26181  0.08768 -3.32459  1.58394  1.08992   \n",
       "4 -1.30906 -0.59577  0.39971 -0.30437 -1.23545 -1.71503  1.94246  1.12837   \n",
       "5 -0.72291  0.12607  1.48415  1.90687  0.69106 -0.69437  1.51481 -0.25328   \n",
       "\n",
       "       8        9    ...      490      491      492      493      494  \\\n",
       "1 -1.15768  0.16218  ...  0.40253  0.93484  0.68504 -1.37858 -1.17067   \n",
       "2 -0.02731  1.08585  ...  0.28299 -1.48371  0.72187  0.52174 -0.25498   \n",
       "3 -1.90353  0.26902  ...  0.92639 -0.61832  0.28087  0.21471  0.29806   \n",
       "4 -0.16355 -1.09568  ...  0.32639 -1.36245  1.23629 -0.96764 -4.24304   \n",
       "5  0.63265  0.69302  ...  0.25997 -0.22013 -1.72110 -0.07785  0.44419   \n",
       "\n",
       "       495      496      497      498      499  \n",
       "1 -0.32967 -3.30627 -0.77131  0.20146 -0.22693  \n",
       "2 -1.12111 -0.16797  2.75876 -1.93091 -0.18303  \n",
       "3 -0.35503 -0.08531  0.65360  1.45089 -0.07093  \n",
       "4  0.82723  1.48626  0.46210  0.00965 -1.52649  \n",
       "5 -0.75173  0.96682 -1.55071 -0.17419  0.78952  \n",
       "\n",
       "[5 rows x 500 columns]"
      ]
     },
     "execution_count": 29,
     "metadata": {},
     "output_type": "execute_result"
    }
   ],
   "source": [
    "X.head()"
   ]
  },
  {
   "cell_type": "code",
   "execution_count": 34,
   "metadata": {},
   "outputs": [],
   "source": [
    "params = {'iterations': 200, 'learning_rate': 0.1, 'loss_function': 'RMSE', 'verbose': 50}"
   ]
  },
  {
   "cell_type": "code",
   "execution_count": 36,
   "metadata": {},
   "outputs": [],
   "source": [
    "cb = CatBoostRegressor(**params)"
   ]
  },
  {
   "cell_type": "code",
   "execution_count": 37,
   "metadata": {},
   "outputs": [
    {
     "name": "stdout",
     "output_type": "stream",
     "text": [
      "0:\tlearn: 1.4550981\ttotal: 72.8ms\tremaining: 14.5s\n",
      "50:\tlearn: 1.2928139\ttotal: 3.36s\tremaining: 9.81s\n",
      "100:\tlearn: 1.1845294\ttotal: 6.44s\tremaining: 6.31s\n",
      "150:\tlearn: 1.1011998\ttotal: 9.5s\tremaining: 3.08s\n",
      "199:\tlearn: 1.0256126\ttotal: 12.5s\tremaining: 0us\n"
     ]
    },
    {
     "data": {
      "text/plain": [
       "<catboost.core.CatBoostRegressor at 0x238ca52e080>"
      ]
     },
     "execution_count": 37,
     "metadata": {},
     "output_type": "execute_result"
    }
   ],
   "source": [
    "cb.fit(X, y)"
   ]
  },
  {
   "cell_type": "code",
   "execution_count": 39,
   "metadata": {},
   "outputs": [],
   "source": [
    "imp = cb.get_feature_importance(Pool(X, label=y))"
   ]
  },
  {
   "cell_type": "code",
   "execution_count": 40,
   "metadata": {},
   "outputs": [],
   "source": [
    "import numpy as np"
   ]
  },
  {
   "cell_type": "code",
   "execution_count": 44,
   "metadata": {},
   "outputs": [
    {
     "data": {
      "text/plain": [
       "'129 193 292 48 337 345 283 110 111 208 482 14 469 241 28 136 483 368 170 100'"
      ]
     },
     "execution_count": 44,
     "metadata": {},
     "output_type": "execute_result"
    }
   ],
   "source": [
    "' '.join(map(str, np.argsort(imp)[::-1][:20]))"
   ]
  },
  {
   "cell_type": "code",
   "execution_count": null,
   "metadata": {},
   "outputs": [],
   "source": []
  }
 ],
 "metadata": {
  "kernelspec": {
   "display_name": "Python 3",
   "language": "python",
   "name": "python3"
  },
  "language_info": {
   "codemirror_mode": {
    "name": "ipython",
    "version": 3
   },
   "file_extension": ".py",
   "mimetype": "text/x-python",
   "name": "python",
   "nbconvert_exporter": "python",
   "pygments_lexer": "ipython3",
   "version": "3.7.3"
  }
 },
 "nbformat": 4,
 "nbformat_minor": 2
}
