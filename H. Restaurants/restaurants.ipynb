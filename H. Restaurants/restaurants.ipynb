{
 "cells": [
  {
   "cell_type": "code",
   "execution_count": 12,
   "metadata": {},
   "outputs": [],
   "source": [
    "import numpy as np\n",
    "import pandas as pd\n",
    "\n",
    "import matplotlib.pyplot as plt\n",
    "import seaborn as sns"
   ]
  },
  {
   "cell_type": "code",
   "execution_count": 27,
   "metadata": {},
   "outputs": [
    {
     "name": "stdout",
     "output_type": "stream",
     "text": [
      "(1000, 5)\n"
     ]
    },
    {
     "data": {
      "text/html": [
       "<div>\n",
       "<style scoped>\n",
       "    .dataframe tbody tr th:only-of-type {\n",
       "        vertical-align: middle;\n",
       "    }\n",
       "\n",
       "    .dataframe tbody tr th {\n",
       "        vertical-align: top;\n",
       "    }\n",
       "\n",
       "    .dataframe thead th {\n",
       "        text-align: right;\n",
       "    }\n",
       "</style>\n",
       "<table border=\"1\" class=\"dataframe\">\n",
       "  <thead>\n",
       "    <tr style=\"text-align: right;\">\n",
       "      <th></th>\n",
       "      <th>winner</th>\n",
       "      <th>r_1</th>\n",
       "      <th>r_2</th>\n",
       "      <th>d_1</th>\n",
       "      <th>d_2</th>\n",
       "    </tr>\n",
       "  </thead>\n",
       "  <tbody>\n",
       "    <tr>\n",
       "      <td>0</td>\n",
       "      <td>0.5</td>\n",
       "      <td>8.154642</td>\n",
       "      <td>NaN</td>\n",
       "      <td>0.000552</td>\n",
       "      <td>0.000483</td>\n",
       "    </tr>\n",
       "    <tr>\n",
       "      <td>1</td>\n",
       "      <td>1.0</td>\n",
       "      <td>NaN</td>\n",
       "      <td>9.105132</td>\n",
       "      <td>0.075709</td>\n",
       "      <td>0.024765</td>\n",
       "    </tr>\n",
       "    <tr>\n",
       "      <td>2</td>\n",
       "      <td>0.0</td>\n",
       "      <td>7.349630</td>\n",
       "      <td>NaN</td>\n",
       "      <td>0.045557</td>\n",
       "      <td>0.006901</td>\n",
       "    </tr>\n",
       "  </tbody>\n",
       "</table>\n",
       "</div>"
      ],
      "text/plain": [
       "   winner       r_1       r_2       d_1       d_2\n",
       "0     0.5  8.154642       NaN  0.000552  0.000483\n",
       "1     1.0       NaN  9.105132  0.075709  0.024765\n",
       "2     0.0  7.349630       NaN  0.045557  0.006901"
      ]
     },
     "execution_count": 27,
     "metadata": {},
     "output_type": "execute_result"
    }
   ],
   "source": [
    "df = pd.read_csv('data/train.txt', sep='\\t', names=['winner', 'r_1', 'r_2', 'd_1', 'd_2'], na_values=-1)\n",
    "\n",
    "print(df.shape)\n",
    "df.head(3)"
   ]
  },
  {
   "cell_type": "markdown",
   "metadata": {},
   "source": [
    "**Handling missing data**"
   ]
  },
  {
   "cell_type": "code",
   "execution_count": 28,
   "metadata": {},
   "outputs": [
    {
     "data": {
      "text/plain": [
       "winner      0\n",
       "r_1       408\n",
       "r_2       438\n",
       "d_1         0\n",
       "d_2         0\n",
       "dtype: int64"
      ]
     },
     "execution_count": 28,
     "metadata": {},
     "output_type": "execute_result"
    }
   ],
   "source": [
    "df.isna().sum()"
   ]
  },
  {
   "cell_type": "code",
   "execution_count": 29,
   "metadata": {},
   "outputs": [
    {
     "data": {
      "text/html": [
       "<div>\n",
       "<style scoped>\n",
       "    .dataframe tbody tr th:only-of-type {\n",
       "        vertical-align: middle;\n",
       "    }\n",
       "\n",
       "    .dataframe tbody tr th {\n",
       "        vertical-align: top;\n",
       "    }\n",
       "\n",
       "    .dataframe thead th {\n",
       "        text-align: right;\n",
       "    }\n",
       "</style>\n",
       "<table border=\"1\" class=\"dataframe\">\n",
       "  <thead>\n",
       "    <tr style=\"text-align: right;\">\n",
       "      <th></th>\n",
       "      <th>winner</th>\n",
       "      <th>r_1</th>\n",
       "      <th>r_2</th>\n",
       "      <th>d_1</th>\n",
       "      <th>d_2</th>\n",
       "    </tr>\n",
       "  </thead>\n",
       "  <tbody>\n",
       "    <tr>\n",
       "      <td>0</td>\n",
       "      <td>0.5</td>\n",
       "      <td>8.154642</td>\n",
       "      <td>7.945215</td>\n",
       "      <td>0.000552</td>\n",
       "      <td>0.000483</td>\n",
       "    </tr>\n",
       "    <tr>\n",
       "      <td>1</td>\n",
       "      <td>1.0</td>\n",
       "      <td>7.945215</td>\n",
       "      <td>9.105132</td>\n",
       "      <td>0.075709</td>\n",
       "      <td>0.024765</td>\n",
       "    </tr>\n",
       "    <tr>\n",
       "      <td>2</td>\n",
       "      <td>0.0</td>\n",
       "      <td>7.349630</td>\n",
       "      <td>7.945215</td>\n",
       "      <td>0.045557</td>\n",
       "      <td>0.006901</td>\n",
       "    </tr>\n",
       "  </tbody>\n",
       "</table>\n",
       "</div>"
      ],
      "text/plain": [
       "   winner       r_1       r_2       d_1       d_2\n",
       "0     0.5  8.154642  7.945215  0.000552  0.000483\n",
       "1     1.0  7.945215  9.105132  0.075709  0.024765\n",
       "2     0.0  7.349630  7.945215  0.045557  0.006901"
      ]
     },
     "execution_count": 29,
     "metadata": {},
     "output_type": "execute_result"
    }
   ],
   "source": [
    "df.fillna(np.nanmean(df[['r_1', 'r_2']]), inplace=True)\n",
    "\n",
    "df.head(3)"
   ]
  },
  {
   "cell_type": "markdown",
   "metadata": {},
   "source": [
    "**Taking a look at the distributions**"
   ]
  },
  {
   "cell_type": "code",
   "execution_count": 95,
   "metadata": {},
   "outputs": [
    {
     "data": {
      "image/png": "[encoded data removed]",
      "text/plain": [
       "<Figure size 1080x720 with 4 Axes>"
      ]
     },
     "metadata": {
      "needs_background": "light"
     },
     "output_type": "display_data"
    }
   ],
   "source": [
    "plt.figure(figsize=(15, 10))\n",
    "\n",
    "plt.subplot(221)\n",
    "plt.title('Ratings distribution')\n",
    "sns.distplot(pd.concat([df['r_1'], df['r_2']]))\n",
    "\n",
    "plt.subplot(222)\n",
    "plt.title('Distances distribution')\n",
    "sns.distplot(pd.concat([df['d_1'], df['d_2']]));\n",
    "\n",
    "plt.subplot(223)\n",
    "plt.title('exp(Ratings) distribution')\n",
    "sns.distplot(np.exp(pd.concat([df['r_1'], df['r_2']])))\n",
    "\n",
    "plt.subplot(224)\n",
    "plt.title('ln(Distances) distribution')\n",
    "sns.distplot(np.log(pd.concat([df['d_1'], df['d_2']]) + 1e-6));"
   ]
  },
  {
   "cell_type": "markdown",
   "metadata": {},
   "source": [
    "**Preparing data for model training**"
   ]
  },
  {
   "cell_type": "code",
   "execution_count": 22,
   "metadata": {},
   "outputs": [
    {
     "data": {
      "text/plain": [
       "0.0    469\n",
       "1.0    407\n",
       "0.5    124\n",
       "Name: winner, dtype: int64"
      ]
     },
     "execution_count": 22,
     "metadata": {},
     "output_type": "execute_result"
    }
   ],
   "source": [
    "df.winner.value_counts()"
   ]
  },
  {
   "cell_type": "code",
   "execution_count": 105,
   "metadata": {},
   "outputs": [
    {
     "data": {
      "text/html": [
       "<div>\n",
       "<style scoped>\n",
       "    .dataframe tbody tr th:only-of-type {\n",
       "        vertical-align: middle;\n",
       "    }\n",
       "\n",
       "    .dataframe tbody tr th {\n",
       "        vertical-align: top;\n",
       "    }\n",
       "\n",
       "    .dataframe thead th {\n",
       "        text-align: right;\n",
       "    }\n",
       "</style>\n",
       "<table border=\"1\" class=\"dataframe\">\n",
       "  <thead>\n",
       "    <tr style=\"text-align: right;\">\n",
       "      <th></th>\n",
       "      <th>winner</th>\n",
       "      <th>r_1</th>\n",
       "      <th>r_2</th>\n",
       "      <th>d_1</th>\n",
       "      <th>d_2</th>\n",
       "    </tr>\n",
       "  </thead>\n",
       "  <tbody>\n",
       "    <tr>\n",
       "      <td>1</td>\n",
       "      <td>1.0</td>\n",
       "      <td>-0.383383</td>\n",
       "      <td>1.404541</td>\n",
       "      <td>-2.580847</td>\n",
       "      <td>-3.698273</td>\n",
       "    </tr>\n",
       "    <tr>\n",
       "      <td>2</td>\n",
       "      <td>-1.0</td>\n",
       "      <td>-0.749808</td>\n",
       "      <td>-0.383383</td>\n",
       "      <td>-3.088770</td>\n",
       "      <td>-4.975992</td>\n",
       "    </tr>\n",
       "    <tr>\n",
       "      <td>3</td>\n",
       "      <td>-1.0</td>\n",
       "      <td>-0.857107</td>\n",
       "      <td>-0.383383</td>\n",
       "      <td>-7.902383</td>\n",
       "      <td>-5.500641</td>\n",
       "    </tr>\n",
       "  </tbody>\n",
       "</table>\n",
       "</div>"
      ],
      "text/plain": [
       "   winner       r_1       r_2       d_1       d_2\n",
       "1     1.0 -0.383383  1.404541 -2.580847 -3.698273\n",
       "2    -1.0 -0.749808 -0.383383 -3.088770 -4.975992\n",
       "3    -1.0 -0.857107 -0.383383 -7.902383 -5.500641"
      ]
     },
     "execution_count": 105,
     "metadata": {},
     "output_type": "execute_result"
    }
   ],
   "source": [
    "X = df[df.winner != 0.5]\n",
    "X.winner = X.winner.replace(0, -1)\n",
    "X[['d_1', 'd_2']] = np.log(X[['d_1', 'd_2']] + 1e-6)\n",
    "X[['r_1', 'r_2']] = np.exp(X[['r_1', 'r_2']])\n",
    "\n",
    "r_mean, r_std = X[['r_1', 'r_2']].values.flatten().mean(), X[['r_1', 'r_2']].values.flatten().std()\n",
    "X[['r_1', 'r_2']] = (X[['r_1', 'r_2']] - r_mean) / r_std\n",
    "\n",
    "X.head(3)"
   ]
  },
  {
   "cell_type": "markdown",
   "metadata": {},
   "source": [
    "$$ \\hat{y} = \\sigma(score_{winner} - score_{looser}) \\rightarrow \\max_{w} $$"
   ]
  },
  {
   "cell_type": "code",
   "execution_count": 107,
   "metadata": {},
   "outputs": [
    {
     "data": {
      "text/plain": [
       "0.9283048500686658"
      ]
     },
     "execution_count": 107,
     "metadata": {},
     "output_type": "execute_result"
    }
   ],
   "source": [
    "def Sigmoid(x):\n",
    "    return 1 / (1 + np.exp(-x))\n",
    "\n",
    "def Loss(X, w):\n",
    "    score_1 = (X[['r_1', 'd_1']] * w).sum(axis=1)\n",
    "    score_2 = (X[['r_2', 'd_2']] * w).sum(axis=1)\n",
    "    x = X.winner * (score_2 - score_1)\n",
    "    \n",
    "    return - np.log(Sigmoid(x)).mean()\n",
    "\n",
    "Loss(X, [1, 1])"
   ]
  },
  {
   "cell_type": "code",
   "execution_count": 108,
   "metadata": {},
   "outputs": [
    {
     "data": {
      "text/plain": [
       "array([0.06710244, 0.32802939])"
      ]
     },
     "execution_count": 108,
     "metadata": {},
     "output_type": "execute_result"
    }
   ],
   "source": [
    "def Grad(X, w):\n",
    "    score_1 = (X[['r_1', 'd_1']] * w).sum(axis=1)\n",
    "    score_2 = (X[['r_2', 'd_2']] * w).sum(axis=1)\n",
    "    x = X.winner * (score_2 - score_1)\n",
    "    s = Sigmoid(x)\n",
    "    \n",
    "    dw1 = - ((1 - s) * X.winner * (X.r_2 - X.r_1)).mean()\n",
    "    dw2 = - ((1 - s) * X.winner * (X.d_2 - X.d_1)).mean()\n",
    "    \n",
    "    return np.array([dw1, dw2])\n",
    "\n",
    "Grad(X, [1, 1])"
   ]
  },
  {
   "cell_type": "code",
   "execution_count": 109,
   "metadata": {},
   "outputs": [
    {
     "name": "stdout",
     "output_type": "stream",
     "text": [
      "Iteration 10. Loss: 0.8354575298219432\n",
      "Iteration 20. Loss: 0.7526987696298029\n",
      "Iteration 30. Loss: 0.6915959509216452\n",
      "Iteration 40. Loss: 0.6505160437851331\n",
      "Iteration 50. Loss: 0.6240834402808121\n",
      "Iteration 60. Loss: 0.6066464250774514\n",
      "Iteration 70. Loss: 0.5946927560864497\n",
      "Iteration 80. Loss: 0.5862527651921239\n",
      "Iteration 90. Loss: 0.5801502888664244\n",
      "Iteration 100. Loss: 0.5756442392170578\n",
      "w = [ 0.64890845 -0.64049816]\n"
     ]
    }
   ],
   "source": [
    "n_iter = 100\n",
    "learning_rate = 0.1\n",
    "w = np.array([1, 1], float)\n",
    "\n",
    "losses = []\n",
    "for i in range(n_iter):\n",
    "    \n",
    "    loss = Loss(X, w)\n",
    "    losses.append(loss)\n",
    "    if (i + 1) % 10 == 0:\n",
    "        print(f'Iteration {i + 1}. Loss: {loss}')\n",
    "    \n",
    "    grad = Grad(X, w)\n",
    "    w -= learning_rate * grad\n",
    "    \n",
    "print(f'w = {w}')"
   ]
  },
  {
   "cell_type": "code",
   "execution_count": 106,
   "metadata": {},
   "outputs": [
    {
     "data": {
      "text/plain": [
       "(4147.068486370935, 3456.1486835368005)"
      ]
     },
     "execution_count": 106,
     "metadata": {},
     "output_type": "execute_result"
    }
   ],
   "source": [
    "r_mean, r_std"
   ]
  }
 ],
 "metadata": {
  "kernelspec": {
   "display_name": "Python 3",
   "language": "python",
   "name": "python3"
  },
  "language_info": {
   "codemirror_mode": {
    "name": "ipython",
    "version": 3
   },
   "file_extension": ".py",
   "mimetype": "text/x-python",
   "name": "python",
   "nbconvert_exporter": "python",
   "pygments_lexer": "ipython3",
   "version": "3.7.3"
  }
 },
 "nbformat": 4,
 "nbformat_minor": 2
}
